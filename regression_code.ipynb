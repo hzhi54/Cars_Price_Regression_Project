{
 "cells": [
  {
   "cell_type": "code",
   "execution_count": 1,
   "id": "420c0d81",
   "metadata": {},
   "outputs": [],
   "source": [
    "import pandas as pd\n",
    "import numpy as np\n",
    "import re\n",
    "from sklearn.preprocessing import LabelEncoder"
   ]
  },
  {
   "cell_type": "code",
   "execution_count": 2,
   "id": "08c89873",
   "metadata": {},
   "outputs": [],
   "source": [
    "def modify(e):\n",
    "    e_split = e.split(':')\n",
    "    size = len(e_split)\n",
    "    if size == 2:\n",
    "        engine = e_split[1][1:]\n",
    "        return engine\n",
    "    else:\n",
    "        return e"
   ]
  },
  {
   "cell_type": "code",
   "execution_count": 3,
   "id": "f329fb7b",
   "metadata": {},
   "outputs": [],
   "source": [
    "def numbers_only_int(s):\n",
    "    retVal = re.sub(\"[^0-9]\", \"\", s)\n",
    "    if retVal == \"\":\n",
    "        return 0\n",
    "    else:\n",
    "        return int(retVal)"
   ]
  },
  {
   "cell_type": "code",
   "execution_count": 4,
   "id": "ff4461ed",
   "metadata": {},
   "outputs": [],
   "source": [
    "def numbers_only_str(s):\n",
    "    retVal = re.sub(\"[^0-9]\", \"\", s)\n",
    "    if retVal == \"\":\n",
    "        return 0\n",
    "    else:\n",
    "        return str(retVal)"
   ]
  },
  {
   "cell_type": "code",
   "execution_count": 5,
   "id": "f2460c98",
   "metadata": {},
   "outputs": [],
   "source": [
    "def categorize_model(s):\n",
    "    value = 4\n",
    "    counts = df['Model'].value_counts()\n",
    "    if counts[s] < 50:\n",
    "        return 'Other'\n",
    "    else:\n",
    "        return s"
   ]
  },
  {
   "cell_type": "code",
   "execution_count": 6,
   "id": "bc2ff74c",
   "metadata": {},
   "outputs": [],
   "source": [
    "def categorize_engine(s):\n",
    "    value = 4\n",
    "    counts = df['Engine'].value_counts()\n",
    "    if counts[s] < 100:\n",
    "        return 'Other'\n",
    "    else:\n",
    "        return s"
   ]
  },
  {
   "cell_type": "code",
   "execution_count": 7,
   "id": "7a2972e2",
   "metadata": {
    "scrolled": true
   },
   "outputs": [],
   "source": [
    "dfs = []\n",
    "data = 'data/carfax_m'\n",
    "for i in range(1,20):\n",
    "    dfs.append(pd.read_csv(data+str(i)+'.csv'))\n",
    "df = pd.concat(dfs)\n",
    "df = df[['Year','Brand','Model','Cost','Mileage'\n",
    "         ,'Accident','Body','Engine','Owners','Usefor','Services']].reset_index()\n",
    "df = df.applymap(lambda x: str(x).strip())"
   ]
  },
  {
   "cell_type": "code",
   "execution_count": null,
   "id": "163320ee",
   "metadata": {},
   "outputs": [],
   "source": [
    "df['Model'] = df['Model'].apply(categorize_model)\n",
    "df['Year'] = df['Year'].apply(lambda x: float(x))\n",
    "df['Mileage'] = df['Mileage'].apply(lambda x: float(x))\n",
    "df['Engine'] = df['Engine'].apply(modify)\n",
    "df['Engine'] = df['Engine'].apply(categorize_engine)"
   ]
  },
  {
   "cell_type": "code",
   "execution_count": null,
   "id": "c3eb737b",
   "metadata": {},
   "outputs": [],
   "source": [
    "# np.unique(df['Brand'])\n",
    "ble = LabelEncoder()\n",
    "brand_labels = ble.fit_transform(df['Brand'])\n",
    "brand_mappings = {index: label for index, label in \n",
    "                  enumerate(ble.classes_)}\n",
    "df['Brandl'] = brand_labels\n",
    "\n",
    "# np.unique(df['Engine'])\n",
    "ele = LabelEncoder()\n",
    "engine_labels = ele.fit_transform(df['Engine'])\n",
    "engine_mappings = {index: label for index, label in \n",
    "                  enumerate(ele.classes_)}\n",
    "df['Enginel'] = engine_labels\n",
    "\n",
    "# np.unique(df['Body'])\n",
    "ble = LabelEncoder()\n",
    "body_labels = ble.fit_transform(df['Body'])\n",
    "body_mappings = {index: label for index, label in \n",
    "                  enumerate(ble.classes_)}\n",
    "df['Bodyl'] = body_labels\n",
    "\n",
    "# np.unique(df['Accident'])\n",
    "ale = LabelEncoder()\n",
    "acc_labels = ale.fit_transform(df['Accident'])\n",
    "acc_mappings = {index: label for index, label in \n",
    "                  enumerate(ale.classes_)}\n",
    "df['Accl'] = acc_labels\n",
    "\n",
    "# np.unique(df['Usefor'])\n",
    "ule = LabelEncoder()\n",
    "use_labels = ule.fit_transform(df['Usefor'])\n",
    "use_mappings = {index: label for index, label in \n",
    "                  enumerate(ule.classes_)}\n",
    "df['Usel'] = use_labels\n",
    "\n",
    "mle = LabelEncoder()\n",
    "model_labels = mle.fit_transform(df['Model'])\n",
    "model_mappings = {index: label for index, label in \n",
    "                  enumerate(mle.classes_)}\n",
    "df['Modell'] = model_labels"
   ]
  },
  {
   "cell_type": "code",
   "execution_count": null,
   "id": "1c798a52",
   "metadata": {},
   "outputs": [],
   "source": [
    "model_mappings"
   ]
  },
  {
   "cell_type": "code",
   "execution_count": null,
   "id": "dea61d5d",
   "metadata": {},
   "outputs": [],
   "source": [
    "import seaborn as sns\n",
    "import matplotlib.pyplot as plt\n",
    "import statsmodels.api as sm\n",
    "from sklearn.linear_model import LinearRegression\n",
    "import scipy.stats as stats\n",
    "from sklearn.preprocessing import PolynomialFeatures\n",
    "from sklearn.pipeline import make_pipeline\n",
    "from sklearn.model_selection import train_test_split\n",
    "from sklearn.preprocessing import StandardScaler\n",
    "from sklearn.linear_model import Lasso, LassoCV\n",
    "from sklearn.linear_model import Ridge\n",
    "from sklearn.pipeline import Pipeline\n",
    "\n",
    "import math"
   ]
  },
  {
   "cell_type": "code",
   "execution_count": null,
   "id": "16595e32",
   "metadata": {},
   "outputs": [],
   "source": [
    "cdf = df[['Cost','Year','Mileage','Owners','Services','Brandl',\n",
    "         'Usel','Enginel','Bodyl','Accl','Modell']].copy()\n",
    "cdf['Owners'] = cdf['Owners'].apply(numbers_only_int)\n",
    "cdf['Services'] = cdf['Services'].apply(lambda x: int(x))\n",
    "cdf['Cost'] = cdf['Cost'].apply(numbers_only_int)\n",
    "cdf = cdf[cdf['Cost'] != 0]"
   ]
  },
  {
   "cell_type": "code",
   "execution_count": null,
   "id": "f6b83628",
   "metadata": {
    "scrolled": true
   },
   "outputs": [],
   "source": [
    "sns.pairplot(cdf)\n",
    "plt.savefig('Pairplot_simple.png')"
   ]
  },
  {
   "cell_type": "code",
   "execution_count": null,
   "id": "36c06c21",
   "metadata": {},
   "outputs": [],
   "source": [
    "X, y = cdf.drop('Cost',axis=1), cdf['Cost']\n",
    "X, X_test, y, y_test = train_test_split(X , y,test_size = .2, random_state=52)\n",
    "X_train, X_val, y_train, y_val = train_test_split(X , y,test_size = .25, random_state=32)\n",
    "\n",
    "lr = LinearRegression()\n",
    "lr.fit(X_train,y_train)\n",
    "print(\"X and y train score:\",lr.score(X_train,y_train))\n",
    "print(\"X and y validation score:\",lr.score(X_val,y_val))\n",
    "print(\"X and y original test score:\",lr.score(X,y))"
   ]
  },
  {
   "cell_type": "code",
   "execution_count": null,
   "id": "eab97b7c",
   "metadata": {},
   "outputs": [],
   "source": [
    "preds = lr.predict(X)\n",
    "sns.jointplot(x=preds,y=y,kind='reg',joint_kws={'line_kws':{'color':'red'}})\n",
    "plt.savefig('Jointplot_simple.png')"
   ]
  },
  {
   "cell_type": "code",
   "execution_count": null,
   "id": "a30b8c8c",
   "metadata": {},
   "outputs": [],
   "source": [
    "fig, ax = plt.subplots(figsize=(10,10)) \n",
    "sns.heatmap(cdf.corr(),cmap='flare',annot=True,vmin=-1,vmax=1)"
   ]
  },
  {
   "cell_type": "code",
   "execution_count": null,
   "id": "9292f783",
   "metadata": {},
   "outputs": [],
   "source": [
    "ydf = cdf['Year'].apply(lambda x: 2021-x)\n",
    "# mdf = cdf['Mileage'] / ydf['Year']\n",
    "cdf['YxM'] = cdf['Mileage'] / ydf['Year']\n",
    "cdf['YxM'] = cdf['YxM'].apply(lambda x: 0 if math.isinf(x) else x)"
   ]
  },
  {
   "cell_type": "code",
   "execution_count": null,
   "id": "280d0569",
   "metadata": {},
   "outputs": [],
   "source": [
    "new_df = cdf[['Cost','Year','Mileage','Owners','Services','Brandl',\n",
    "         'Usel','Enginel','Bodyl','Accl','Modell','YxM']]\n",
    "\n",
    "X, y = new_df.drop('Cost',axis=1), cdf['Cost']\n",
    "\n",
    "X, X_test, y, y_test = train_test_split(X , y,test_size = .2, random_state=62)\n",
    "X_train, X_val, y_train, y_val = train_test_split(X , y,test_size = .25, random_state=22)\n",
    "\n",
    "lr = LinearRegression()\n",
    "lr.fit(X_train,y_train)\n",
    "print(\"X and y train score:\",lr.score(X_train,y_train))\n",
    "print(\"X and y validation score:\",lr.score(X_val,y_val))\n",
    "print(\"X and y original test score:\",lr.score(X,y))"
   ]
  },
  {
   "cell_type": "code",
   "execution_count": null,
   "id": "a61c74de",
   "metadata": {
    "scrolled": false
   },
   "outputs": [],
   "source": [
    "# new_df = pd.get_dummies(cdf, columns = ['Accl'],drop_first=True)\n",
    "new_df = pd.get_dummies(cdf, columns = ['Brandl'],drop_first=True)\n",
    "# new_df = pd.get_dummies(cdf, columns = ['Enginel'],drop_first=True)\n",
    "# new_df = pd.get_dummies(cdf, columns = ['Modell'],drop_first=True)"
   ]
  },
  {
   "cell_type": "code",
   "execution_count": null,
   "id": "1c80694f",
   "metadata": {},
   "outputs": [],
   "source": [
    "X, y = new_df.drop('Cost',axis=1), new_df['Cost']\n",
    "X, X_test, y, y_test = train_test_split(X , y,test_size = .2, random_state=62)\n",
    "X_train, X_val, y_train, y_val = train_test_split(X , y,test_size = .25, random_state=22)"
   ]
  },
  {
   "cell_type": "code",
   "execution_count": null,
   "id": "89d6ac20",
   "metadata": {},
   "outputs": [],
   "source": [
    "lr = LinearRegression()\n",
    "lr.fit(X_train,y_train)\n",
    "print(\"X and y train score:\",lr.score(X_train,y_train))\n",
    "print(\"X and y validation score:\",lr.score(X_val,y_val))\n",
    "print(\"X and y original test score:\",lr.score(X,y))"
   ]
  },
  {
   "cell_type": "code",
   "execution_count": null,
   "id": "f498e565",
   "metadata": {},
   "outputs": [],
   "source": [
    "preds = lr.predict(X)\n",
    "sns.jointplot(x=preds,y=y,kind='reg',joint_kws={'line_kws':{'color':'red'}})\n",
    "plt.savefig('Jointplot_better.png')"
   ]
  },
  {
   "cell_type": "code",
   "execution_count": null,
   "id": "18ffa47e",
   "metadata": {},
   "outputs": [],
   "source": [
    "def mae(y_true, y_pred):\n",
    "    return np.mean(np.abs(y_pred - y_true)) "
   ]
  },
  {
   "cell_type": "code",
   "execution_count": null,
   "id": "f3b10a28",
   "metadata": {},
   "outputs": [],
   "source": [
    "cdf = df[['Cost','Year','Mileage','Owners','Services','Brand',\n",
    "         'Usel','Enginel','Bodyl','Accl','Modell']].copy()\n",
    "cdf['Owners'] = cdf['Owners'].apply(numbers_only_int)\n",
    "cdf['Services'] = cdf['Services'].apply(lambda x: int(x))\n",
    "cdf['Cost'] = cdf['Cost'].apply(numbers_only_int)\n",
    "cdf = cdf[cdf['Cost'] != 0]\n",
    "ydf['Year'] = 2021 - cdf['Year']\n",
    "cdf['YxM'] = cdf['Mileage'] / ydf['Year']\n",
    "cdf['YxM'] = cdf['YxM'].apply(lambda x: 0 if math.isinf(x) else x)"
   ]
  },
  {
   "cell_type": "code",
   "execution_count": null,
   "id": "376cc323",
   "metadata": {},
   "outputs": [],
   "source": [
    "new_df = cdf[['Cost','Year','Mileage','Owners','Services','Brand',\n",
    "         'Usel','Enginel','Bodyl','Accl','Modell','YxM']]\n",
    "\n",
    "# new_df['Mileage'] = np.log(new_df['Mileage'])\n",
    "\n",
    "new_df = pd.get_dummies(cdf, columns = ['Brand'],drop_first=True)\n",
    "\n",
    "X, y = new_df.drop('Cost',axis=1), cdf['Cost']\n",
    "\n",
    "X, X_test, y, y_test = train_test_split(X , y,test_size = .2, random_state=62)\n",
    "X_train, X_val, y_train, y_val = train_test_split(X , y,test_size = .25, random_state=22)"
   ]
  },
  {
   "cell_type": "code",
   "execution_count": null,
   "id": "c5a47e0c",
   "metadata": {},
   "outputs": [],
   "source": [
    "alphalist = 10**(np.linspace(-2,3,200))\n",
    "err_vec_val = np.zeros(len(alphalist))\n",
    "err_vec_train = np.zeros(len(alphalist))\n",
    "\n",
    "for i,curr_alpha in enumerate(alphalist):\n",
    "\n",
    "    steps = [('standardize', StandardScaler()), \n",
    "             ('lasso', Lasso(alpha = curr_alpha))]\n",
    "\n",
    "    pipe = Pipeline(steps)\n",
    "    pipe.fit(X_train, y_train)\n",
    "    \n",
    "    val_set_pred = pipe.predict(X_val)\n",
    "    err_vec_val[i] = mae(y_val, val_set_pred)\n",
    "np.min(err_vec_val)\n",
    "alphalist[np.argmin(err_vec_val)]"
   ]
  },
  {
   "cell_type": "code",
   "execution_count": null,
   "id": "88ff2465",
   "metadata": {},
   "outputs": [],
   "source": [
    "plt.plot(np.log10(alphalist), err_vec_val)"
   ]
  },
  {
   "cell_type": "code",
   "execution_count": null,
   "id": "c094cc64",
   "metadata": {
    "scrolled": true
   },
   "outputs": [],
   "source": [
    "lasso = Lasso(alpha=176)\n",
    "\n",
    "scaler = StandardScaler()\n",
    "\n",
    "X_train_scaled = scaler.fit_transform(X_train.values)\n",
    "X_test_scaled = scaler.fit_transform(X_test.values)\n",
    "\n",
    "lasso.fit(X_train_scaled,y_train)\n",
    "coef_l = list(zip(X_train.columns, lasso.coef_))\n",
    "remove_idx = []\n",
    "for i in range(len(coef_l)):\n",
    "    if coef_l[i][1] == 0:\n",
    "        remove_idx.append(i)\n",
    "        \n",
    "print('R^2 score =',lasso.score(X_train_scaled,y_train))\n",
    "test_set_pred = lasso.predict(X_test_scaled)\n",
    "print('MAE = ',mae(y_test, test_set_pred))"
   ]
  },
  {
   "cell_type": "code",
   "execution_count": null,
   "id": "221062a1",
   "metadata": {},
   "outputs": [],
   "source": [
    "sns.jointplot(x=test_set_pred,y=list(y_test),kind='reg',joint_kws={'line_kws':{'color':'red'}})\n",
    "plt.savefig('lasso.png')"
   ]
  },
  {
   "cell_type": "code",
   "execution_count": null,
   "id": "11350e74",
   "metadata": {},
   "outputs": [],
   "source": [
    "std = StandardScaler()\n",
    "std.fit(X_train.values)\n",
    "X_tr = std.transform(X_train.values)\n",
    "X_te = std.transform(X_test.values)\n",
    "alphavec = 10**np.linspace(-2,3,200)\n",
    "\n",
    "lasso_model = LassoCV(alphas = alphavec, cv=5)\n",
    "lasso_model.fit(X_tr, y_train)\n",
    "\n",
    "list(zip(X_train.columns, lasso_model.coef_))\n",
    "test_set_pred = lasso_model.predict(X_te)\n",
    "\n",
    "print('R^2 score =',lasso.score(X_tr,y_train))\n",
    "test_set_pred = lasso_model.predict(X_te)\n",
    "print('MAE = ',mae(y_test, test_set_pred))"
   ]
  },
  {
   "cell_type": "code",
   "execution_count": null,
   "id": "73123036",
   "metadata": {
    "scrolled": true
   },
   "outputs": [],
   "source": [
    "X_te[0]\n",
    "list(zip(X_train.columns, lasso_model.coef_))"
   ]
  },
  {
   "cell_type": "code",
   "execution_count": null,
   "id": "8ea632bd",
   "metadata": {},
   "outputs": [],
   "source": [
    "X_1 = [[2014,92000,1,6,5,5,6,8,79,13142,0,0,0,0,0,0,0,0,0,0,0,0,0,0,0,0,1,0]]\n",
    "X_te = std.transform(X_1)\n",
    "print(\"Toyota 2014 XLE:\",lasso_model.predict(X_te))\n",
    "\n",
    "X_2 = [[2013,111000,5,11,5,5,6,1,59,13875,1,0,0,0,0,0,0,0,0,0,0,0,0,0,0,0,0,0]]\n",
    "X_te = std.transform(X_2)\n",
    "print(\"Acura 2013 Base:\",lasso_model.predict(X_te))\n",
    "\n",
    "X_3 = [[2019,1216,1,1,5,17,9,8,38,26,608,0,0,0,0,0,1,0,0,0,0,0,0,0,0,0,0,0]]\n",
    "X_te = std.transform(X_3)\n",
    "print(\"Ford 2019 F-150:\",lasso_model.predict(X_te))"
   ]
  },
  {
   "cell_type": "code",
   "execution_count": null,
   "id": "48cd4a71",
   "metadata": {},
   "outputs": [],
   "source": [
    "lasso_model.predict(X_te)"
   ]
  },
  {
   "cell_type": "code",
   "execution_count": null,
   "id": "111baf49",
   "metadata": {},
   "outputs": [],
   "source": [
    "model_mappings"
   ]
  },
  {
   "cell_type": "code",
   "execution_count": null,
   "id": "1a47ea31",
   "metadata": {},
   "outputs": [],
   "source": [
    "body_mappings"
   ]
  },
  {
   "cell_type": "code",
   "execution_count": null,
   "id": "b2c1eff5",
   "metadata": {},
   "outputs": [],
   "source": [
    "engine_mappings"
   ]
  },
  {
   "cell_type": "code",
   "execution_count": null,
   "id": "86ee1f30",
   "metadata": {},
   "outputs": [],
   "source": [
    "acc_mappings"
   ]
  },
  {
   "cell_type": "code",
   "execution_count": null,
   "id": "699dc17d",
   "metadata": {},
   "outputs": [],
   "source": [
    "brand_mappings"
   ]
  },
  {
   "cell_type": "code",
   "execution_count": null,
   "id": "53fcae6c",
   "metadata": {},
   "outputs": [],
   "source": [
    "use_mappings"
   ]
  },
  {
   "cell_type": "code",
   "execution_count": null,
   "id": "ae604d84",
   "metadata": {},
   "outputs": [],
   "source": []
  }
 ],
 "metadata": {
  "kernelspec": {
   "display_name": "Python [conda env:metis] *",
   "language": "python",
   "name": "conda-env-metis-py"
  },
  "language_info": {
   "codemirror_mode": {
    "name": "ipython",
    "version": 3
   },
   "file_extension": ".py",
   "mimetype": "text/x-python",
   "name": "python",
   "nbconvert_exporter": "python",
   "pygments_lexer": "ipython3",
   "version": "3.8.10"
  }
 },
 "nbformat": 4,
 "nbformat_minor": 5
}
