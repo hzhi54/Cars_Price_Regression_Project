{
 "cells": [
  {
   "cell_type": "code",
   "execution_count": 1,
   "id": "420c0d81",
   "metadata": {},
   "outputs": [],
   "source": [
    "import pandas as pd\n",
    "import numpy as np\n",
    "import re\n",
    "from sklearn.preprocessing import LabelEncoder"
   ]
  },
  {
   "cell_type": "code",
   "execution_count": 9,
   "id": "750de157",
   "metadata": {},
   "outputs": [],
   "source": [
    "def modify(e):\n",
    "    e_split = e.split(':')\n",
    "    size = len(e_split)\n",
    "    if size == 2:\n",
    "        engine = e_split[1][1:]\n",
    "        return engine\n",
    "    else:\n",
    "        return e"
   ]
  },
  {
   "cell_type": "code",
   "execution_count": 17,
   "id": "8d202ff6",
   "metadata": {},
   "outputs": [],
   "source": [
    "def numbers_only(s):\n",
    "    retVal = re.sub(\"[^0-9]\", \"\", s)\n",
    "    if retVal == \"\":\n",
    "        return 0\n",
    "    else:\n",
    "        return int(retVal)"
   ]
  },
  {
   "cell_type": "code",
   "execution_count": 2,
   "id": "7a2972e2",
   "metadata": {},
   "outputs": [],
   "source": [
    "dfs = []\n",
    "data = 'data/carfax_m'\n",
    "for i in range(1,20):\n",
    "    dfs.append(pd.read_csv(data+str(i)+'.csv'))\n",
    "df = pd.concat(dfs)\n",
    "df = df[['Year','Brand','Model','Cost','City','State','Mileage'\n",
    "         ,'Accident','Body','Engine','Owners','Usefor','Services']]\n",
    "df = df.applymap(lambda x: str(x).strip())\n",
    "df = df[(df['State'] == 'NY') | (df['State'] == 'NJ')]"
   ]
  },
  {
   "cell_type": "code",
   "execution_count": 5,
   "id": "edc72b61",
   "metadata": {},
   "outputs": [],
   "source": [
    "value = df['City'].value_counts()[150]\n",
    "counts = df['City'].value_counts()\n",
    "df = df[~df['City'].isin(counts[counts < value].index)]"
   ]
  },
  {
   "cell_type": "code",
   "execution_count": 8,
   "id": "74f645a6",
   "metadata": {},
   "outputs": [],
   "source": [
    "df['Year'] = df['Year'].apply(lambda x: int(x))\n",
    "df['Mileage'] = df['Mileage'].apply(lambda x: int(x))"
   ]
  },
  {
   "cell_type": "code",
   "execution_count": 10,
   "id": "66a4d364",
   "metadata": {},
   "outputs": [],
   "source": [
    "df['Engine'] = df['Engine'].apply(modify)"
   ]
  },
  {
   "cell_type": "code",
   "execution_count": 11,
   "id": "92622b38",
   "metadata": {},
   "outputs": [],
   "source": [
    "value = df['Engine'].value_counts()[20]\n",
    "counts = df['Engine'].value_counts()\n",
    "df = df[~df['Engine'].isin(counts[counts < value].index)]"
   ]
  },
  {
   "cell_type": "code",
   "execution_count": 14,
   "id": "710262b5",
   "metadata": {},
   "outputs": [],
   "source": [
    "# np.unique(df['Brand'])\n",
    "ble = LabelEncoder()\n",
    "brand_labels = ble.fit_transform(df['Brand'])\n",
    "brand_mappings = {index: label for index, label in \n",
    "                  enumerate(ble.classes_)}\n",
    "df['Brand_label'] = brand_labels\n",
    "\n",
    "# np.unique(df['Engine'])\n",
    "ele = LabelEncoder()\n",
    "engine_labels = ele.fit_transform(df['Engine'])\n",
    "engine_mappings = {index: label for index, label in \n",
    "                  enumerate(ele.classes_)}\n",
    "df['Engine_label'] = engine_labels\n",
    "\n",
    "# np.unique(df['Body'])\n",
    "ble = LabelEncoder()\n",
    "body_labels = ble.fit_transform(df['Body'])\n",
    "body_mappings = {index: label for index, label in \n",
    "                  enumerate(ble.classes_)}\n",
    "df['Body_label'] = body_labels\n",
    "\n",
    "# np.unique(df['Accident'])\n",
    "ale = LabelEncoder()\n",
    "acc_labels = ale.fit_transform(df['Accident'])\n",
    "acc_mappings = {index: label for index, label in \n",
    "                  enumerate(ale.classes_)}\n",
    "df['Acc_label'] = acc_labels\n",
    "\n",
    "# np.unique(df['Usefor'])\n",
    "ule = LabelEncoder()\n",
    "use_labels = ule.fit_transform(df['Usefor'])\n",
    "use_mappings = {index: label for index, label in \n",
    "                  enumerate(ule.classes_)}\n",
    "df['Use_label'] = use_labels\n",
    "\n",
    "# np.unique(df['State'])\n",
    "sle = LabelEncoder()\n",
    "state_labels = sle.fit_transform(df['State'])\n",
    "state_mappings = {index: label for index, label in \n",
    "                  enumerate(sle.classes_)}\n",
    "df['State_label'] = use_labels"
   ]
  },
  {
   "cell_type": "code",
   "execution_count": 15,
   "id": "4cb13939",
   "metadata": {},
   "outputs": [],
   "source": []
  },
  {
   "cell_type": "code",
   "execution_count": 20,
   "id": "cf31ae70",
   "metadata": {},
   "outputs": [],
   "source": [
    "cdf = df[['Cost','Year','Mileage','Owners','Services','Brand_label',\n",
    "         'Body_label','Acc_label','Use_label','State_label']].copy()\n",
    "cdf['Owners'] = cdf['Owners'].apply(lambda x: int(x))\n",
    "cdf['Services'] = cdf['Services'].apply(lambda x: int(x))\n",
    "cdf['Cost'] = cdf['Cost'].apply(numbers_only)\n",
    "cdf = cdf[cdf['Cost'] != 0]"
   ]
  },
  {
   "cell_type": "code",
   "execution_count": null,
   "id": "5ea93f1d",
   "metadata": {},
   "outputs": [],
   "source": []
  }
 ],
 "metadata": {
  "kernelspec": {
   "display_name": "Python [conda env:metis] *",
   "language": "python",
   "name": "conda-env-metis-py"
  },
  "language_info": {
   "codemirror_mode": {
    "name": "ipython",
    "version": 3
   },
   "file_extension": ".py",
   "mimetype": "text/x-python",
   "name": "python",
   "nbconvert_exporter": "python",
   "pygments_lexer": "ipython3",
   "version": "3.8.10"
  }
 },
 "nbformat": 4,
 "nbformat_minor": 5
}
